{
 "cells": [
  {
   "cell_type": "markdown",
   "metadata": {},
   "source": [
    "#### Consider the flight dataset attached. Write a Python code block to find all the travel options a passenger can take, along with flight details for the input Delhi (origin) to Mumbai (destination)."
   ]
  },
  {
   "cell_type": "code",
   "execution_count": 1,
   "metadata": {},
   "outputs": [],
   "source": [
    "from collections import defaultdict, deque\n",
    "\n",
    "import pandas as pd\n",
    "\n",
    "origin = \" Delhi\"\n",
    "destination = \" Mumbai\"\n",
    "\n",
    "flights_df = pd.read_csv(\"./Flight Details.csv\")"
   ]
  },
  {
   "cell_type": "code",
   "execution_count": 2,
   "metadata": {},
   "outputs": [],
   "source": [
    "def format_time(minutes):\n",
    "    hours = minutes // 100\n",
    "    mins = minutes % 100\n",
    "    return f\"{hours:02}:{mins:02}\"\n",
    "\n",
    "\n",
    "def calculate_total_duration(route):\n",
    "    start_time = route[0][\"StartTime\"]\n",
    "    end_time = route[-1][\"EndTime\"]\n",
    "    duration = (end_time // 100 - start_time // 100) * 60 + (\n",
    "        end_time % 100 - start_time % 100\n",
    "    )\n",
    "    return duration\n",
    "\n",
    "\n",
    "def format_route(route):\n",
    "    stops = len(route) - 1\n",
    "    stop_details = (\n",
    "        \"Direct\"\n",
    "        if stops == 0\n",
    "        else f\"{stops} Stop(s) ({', '.join([f['Destination'] for f in route[:-1]])})\"\n",
    "    )\n",
    "    total_duration = calculate_total_duration(route)\n",
    "    return f\"{route[0]['Origin'].strip()} - {route[-1]['Destination'].strip()} >> {total_duration // 60} hours {total_duration % 60} mins >> {stop_details}\""
   ]
  },
  {
   "cell_type": "markdown",
   "metadata": {},
   "source": [
    "**Without using graph**"
   ]
  },
  {
   "cell_type": "code",
   "execution_count": null,
   "metadata": {},
   "outputs": [],
   "source": [
    "def find_travel_options(flights, origin, destination):\n",
    "    flights = flights.to_dict(orient=\"records\")\n",
    "    results = []\n",
    "\n",
    "    def find_routes(current_route, current_flight):\n",
    "        # Add current flight to the route\n",
    "        current_route.append(current_flight)\n",
    "\n",
    "        # Check if we reached the destination\n",
    "        if current_flight[\"Destination\"].strip() == destination:\n",
    "            results.append(list(current_route))\n",
    "            current_route.pop()  # Backtrack for other options\n",
    "            return\n",
    "\n",
    "        # Find connecting flights\n",
    "        for flight in flights:\n",
    "            if (\n",
    "                flight[\"Origin\"].strip() == current_flight[\"Destination\"].strip()\n",
    "                and flight[\"StartTime\"] > current_flight[\"EndTime\"]\n",
    "            ):\n",
    "                find_routes(current_route, flight)\n",
    "\n",
    "        # Backtrack\n",
    "        current_route.pop()\n",
    "\n",
    "    # Find all starting flights from the origin\n",
    "    for flight in flights:\n",
    "        if flight[\"Origin\"].strip() == origin:\n",
    "            find_routes([], flight)\n",
    "\n",
    "    return results\n",
    "\n",
    "\n",
    "# Inputs\n",
    "origin = \"Delhi\"\n",
    "destination = \"Mumbai\"\n",
    "\n",
    "# Get travel options\n",
    "travel_options = find_travel_options(flights_df, origin, destination)\n",
    "\n",
    "# Display travel options\n",
    "if travel_options:\n",
    "    for i, option in enumerate(travel_options, start=1):\n",
    "        print(f\"Option {i}:\\n\\t{format_route(option)}\")\n",
    "        for flight in option:\n",
    "            print(\n",
    "                f\"\\tFlight {flight['FlightNumber']} from {flight['Origin'].strip()} to {flight['Destination'].strip()} ({format_time(flight['StartTime'])} - {format_time(flight['EndTime'])})\"\n",
    "            )\n",
    "else:\n",
    "    print(f\"No travel options available from {origin} to {destination}.\")"
   ]
  },
  {
   "cell_type": "markdown",
   "metadata": {},
   "source": [
    "**Using graph**"
   ]
  },
  {
   "cell_type": "code",
   "execution_count": null,
   "metadata": {},
   "outputs": [],
   "source": [
    "def find_routes(origin, destination, flights):\n",
    "    # Build a graph of routes\n",
    "    graph = defaultdict(list)\n",
    "    for _, row in flights.iterrows():\n",
    "        graph[row[\"Origin\"].strip()].append(\n",
    "            {\n",
    "                \"FlightNumber\": row[\"FlightNumber\"],\n",
    "                \"Destination\": row[\"Destination\"].strip(),\n",
    "                \"Origin\": row[\"Origin\"].strip(),\n",
    "                \"StartTime\": row[\"StartTime\"],\n",
    "                \"EndTime\": row[\"EndTime\"],\n",
    "            }\n",
    "        )\n",
    "\n",
    "    results = []\n",
    "    queue = deque([(origin, [], 0)])\n",
    "\n",
    "    while queue:\n",
    "        current_city, path, last_end_time = queue.popleft()\n",
    "        if current_city == destination:\n",
    "            results.append(path)\n",
    "            continue\n",
    "\n",
    "        for flight in graph[current_city]:\n",
    "            if (\n",
    "                flight[\"StartTime\"] >= last_end_time\n",
    "            ):  # Check for valid connection timing\n",
    "                queue.append(\n",
    "                    (flight[\"Destination\"].strip(), path + [flight], flight[\"EndTime\"])\n",
    "                )\n",
    "\n",
    "    return results\n",
    "\n",
    "\n",
    "# Find routes from Delhi to Mumbai\n",
    "origin = \"Delhi\"\n",
    "destination = \"Mumbai\"\n",
    "travel_options = find_routes(origin, destination, flights_df)\n",
    "\n",
    "# Display travel options\n",
    "if travel_options:\n",
    "    for i, option in enumerate(travel_options, start=1):\n",
    "        print(f\"Option {i}:\\n\\t{format_route(option)}\")\n",
    "        for flight in option:\n",
    "            print(\n",
    "                f\"\\tFlight {flight['FlightNumber']} from {flight['Origin'].strip()} to {flight['Destination'].strip()} ({format_time(flight['StartTime'])} - {format_time(flight['EndTime'])})\"\n",
    "            )\n",
    "else:\n",
    "    print(f\"No travel options available from {origin} to {destination}.\")"
   ]
  }
 ],
 "metadata": {
  "kernelspec": {
   "display_name": "Python 3",
   "language": "python",
   "name": "python3"
  },
  "language_info": {
   "codemirror_mode": {
    "name": "ipython",
    "version": 3
   },
   "file_extension": ".py",
   "mimetype": "text/x-python",
   "name": "python",
   "nbconvert_exporter": "python",
   "pygments_lexer": "ipython3",
   "version": "3.12.5"
  }
 },
 "nbformat": 4,
 "nbformat_minor": 2
}
